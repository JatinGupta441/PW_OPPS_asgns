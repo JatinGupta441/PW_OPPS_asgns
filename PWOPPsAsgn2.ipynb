{
 "cells": [
  {
   "cell_type": "code",
   "execution_count": null,
   "id": "8bc24dfc",
   "metadata": {},
   "outputs": [],
   "source": [
    "#Q1\n",
    "# Class is a kind of blueprint which defines various attributes to the object and methods.\n",
    "# Object is an instance of the class which have specific details.\n"
   ]
  },
  {
   "cell_type": "code",
   "execution_count": null,
   "id": "7a419256",
   "metadata": {},
   "outputs": [],
   "source": [
    "#Q2\n",
    "# Polymorphism, Inheritance, Encapsulation, Abstraction"
   ]
  },
  {
   "cell_type": "code",
   "execution_count": 1,
   "id": "6d7c3846",
   "metadata": {},
   "outputs": [],
   "source": [
    "#Q3\n",
    "# It is a dunder function used to initialise the attributes of the object.\n",
    "class eginit:\n",
    "    def __init__(self,name, age):\n",
    "        self.name=name\n",
    "        self.age=age"
   ]
  },
  {
   "cell_type": "code",
   "execution_count": 5,
   "id": "8a9e3004",
   "metadata": {},
   "outputs": [
    {
     "data": {
      "text/plain": [
       "'Jatin'"
      ]
     },
     "execution_count": 5,
     "metadata": {},
     "output_type": "execute_result"
    }
   ],
   "source": [
    "egobj=eginit(\"Jatin\",20)\n",
    "egobj.name"
   ]
  },
  {
   "cell_type": "code",
   "execution_count": null,
   "id": "f0d4546d",
   "metadata": {},
   "outputs": [],
   "source": [
    "#Q4\n",
    "# Self is used to point to the attributes and methods of the class to the object."
   ]
  },
  {
   "cell_type": "code",
   "execution_count": 13,
   "id": "963f33d9",
   "metadata": {},
   "outputs": [],
   "source": [
    "#Q5\n",
    "# Inheritance is a pillar of OPPs used to access the methods defined in a different class in the current class.\n",
    "# Two type: single inheritance, multiple inheritance\n",
    "class father:\n",
    "    def par1(self):\n",
    "        print(\"parent1\")\n",
    "class child(father):\n",
    "    def ch(self):\n",
    "        print(\"Child\")\n",
    "class child2(child):\n",
    "    def ch2(self):\n",
    "        print(\"child2\")"
   ]
  },
  {
   "cell_type": "code",
   "execution_count": 16,
   "id": "61e5363f",
   "metadata": {},
   "outputs": [
    {
     "name": "stdout",
     "output_type": "stream",
     "text": [
      "parent1\n",
      "Child\n"
     ]
    }
   ],
   "source": [
    "eginhr2=child2()\n",
    "eginhr2.par1()\n",
    "eginhr2.ch()"
   ]
  },
  {
   "cell_type": "code",
   "execution_count": 11,
   "id": "8912a055",
   "metadata": {},
   "outputs": [
    {
     "name": "stdout",
     "output_type": "stream",
     "text": [
      "parent1\n"
     ]
    }
   ],
   "source": [
    "eginhr=child()\n",
    "eginhr.par1()"
   ]
  }
 ],
 "metadata": {
  "kernelspec": {
   "display_name": "Python 3 (ipykernel)",
   "language": "python",
   "name": "python3"
  },
  "language_info": {
   "codemirror_mode": {
    "name": "ipython",
    "version": 3
   },
   "file_extension": ".py",
   "mimetype": "text/x-python",
   "name": "python",
   "nbconvert_exporter": "python",
   "pygments_lexer": "ipython3",
   "version": "3.9.13"
  }
 },
 "nbformat": 4,
 "nbformat_minor": 5
}
