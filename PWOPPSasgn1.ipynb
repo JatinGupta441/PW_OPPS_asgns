{
 "cells": [
  {
   "cell_type": "code",
   "execution_count": 1,
   "id": "8d453009",
   "metadata": {},
   "outputs": [],
   "source": [
    "#Q1\n",
    "class vehicle:\n",
    "    def __init__(self,name,maxspeed,avgspeed):\n",
    "        self.name_of_vehicle=name\n",
    "        self.max_speed=maxspeed\n",
    "        self.average_of_vehicle=avgspeed"
   ]
  },
  {
   "cell_type": "code",
   "execution_count": 2,
   "id": "62e4819a",
   "metadata": {},
   "outputs": [],
   "source": [
    "#Q2\n",
    "class car(vehicle):\n",
    "    def seating_capacity(self,capacity):\n",
    "        return self.name_of_vehicle, capacity"
   ]
  },
  {
   "cell_type": "code",
   "execution_count": 3,
   "id": "576758c9",
   "metadata": {},
   "outputs": [],
   "source": [
    "veh=vehicle(\"audi\",13,8)"
   ]
  },
  {
   "cell_type": "code",
   "execution_count": 6,
   "id": "dba2baf1",
   "metadata": {},
   "outputs": [
    {
     "data": {
      "text/plain": [
       "('RR', 4)"
      ]
     },
     "execution_count": 6,
     "metadata": {},
     "output_type": "execute_result"
    }
   ],
   "source": [
    "veh1=car(\"RR\",19,8)\n",
    "veh1.seating_capacity(4)"
   ]
  },
  {
   "cell_type": "code",
   "execution_count": 7,
   "id": "92d1c7d5",
   "metadata": {},
   "outputs": [],
   "source": [
    "#Q3\n",
    "# When we are able to use the methods defined in two or more different classes into one class.\n",
    "class father:\n",
    "    def father_print(self):\n",
    "        print(\"This is class father\")\n",
    "class mother:\n",
    "    def mother_print(self):\n",
    "        print(\"This is class mother\")\n",
    "class son(father, mother):\n",
    "    def son_print(self):\n",
    "        return self.father_print,self.mother_print"
   ]
  },
  {
   "cell_type": "code",
   "execution_count": 9,
   "id": "ba09f5b9",
   "metadata": {},
   "outputs": [
    {
     "data": {
      "text/plain": [
       "(<bound method father.father_print of <__main__.son object at 0x7fdc78c01f10>>,\n",
       " <bound method mother.mother_print of <__main__.son object at 0x7fdc78c01f10>>)"
      ]
     },
     "execution_count": 9,
     "metadata": {},
     "output_type": "execute_result"
    }
   ],
   "source": [
    "s=son()\n",
    "s.son_print()"
   ]
  },
  {
   "cell_type": "code",
   "execution_count": 11,
   "id": "e586a4f5",
   "metadata": {},
   "outputs": [
    {
     "name": "stdout",
     "output_type": "stream",
     "text": [
      "This is class father\n",
      "This is class mother\n"
     ]
    }
   ],
   "source": [
    "s.father_print()\n",
    "s.mother_print()"
   ]
  },
  {
   "cell_type": "code",
   "execution_count": 22,
   "id": "e457827d",
   "metadata": {},
   "outputs": [],
   "source": [
    "#Q4\n",
    "# getter and setter are used to encapsulate data in a class and then retreive it indirectly from another method of the class.\n",
    "class encapeg:\n",
    "    def __init__(self,name,ID):\n",
    "        self._name=name\n",
    "        self._ID=ID\n",
    "    def get_name(self):\n",
    "        return self._name\n",
    "    def set_name(self,name):\n",
    "        self._name=name"
   ]
  },
  {
   "cell_type": "code",
   "execution_count": 23,
   "id": "fa0bad87",
   "metadata": {},
   "outputs": [],
   "source": [
    "eg_obj=encapeg(\"Jatin\",99)"
   ]
  },
  {
   "cell_type": "code",
   "execution_count": 24,
   "id": "911c2fbd",
   "metadata": {},
   "outputs": [
    {
     "data": {
      "text/plain": [
       "'Jatin'"
      ]
     },
     "execution_count": 24,
     "metadata": {},
     "output_type": "execute_result"
    }
   ],
   "source": [
    "eg_obj.get_name()"
   ]
  },
  {
   "cell_type": "code",
   "execution_count": 25,
   "id": "03f1063f",
   "metadata": {},
   "outputs": [
    {
     "data": {
      "text/plain": [
       "'Gupta'"
      ]
     },
     "execution_count": 25,
     "metadata": {},
     "output_type": "execute_result"
    }
   ],
   "source": [
    "eg_obj.set_name(\"Gupta\")\n",
    "eg_obj.get_name()"
   ]
  },
  {
   "cell_type": "code",
   "execution_count": 26,
   "id": "b97720cb",
   "metadata": {},
   "outputs": [],
   "source": [
    "#Q5\n",
    "# Method overriding is used to perform abstraction in python i.e a skeleton class is defined,\n",
    "# we then used the methods defined in the blue print in our own defined classes.\n",
    "import abc\n",
    "class egabs:\n",
    "    @abc.abstractmethod\n",
    "    def student_name(self):\n",
    "        pass\n",
    "    @abc.abstractmethod\n",
    "    def student_age(self):\n",
    "        pass"
   ]
  },
  {
   "cell_type": "code",
   "execution_count": 27,
   "id": "a246799d",
   "metadata": {},
   "outputs": [],
   "source": [
    "class racad(egabs):\n",
    "    def student_name(self):\n",
    "        print(\"Enter student name of racad\")\n",
    "    def student_age(self):\n",
    "        print(\"Enter student age of racad\")\n",
    "\n",
    "class cacad(egabs):\n",
    "    def student_name(self):\n",
    "        print(\"Enter student name of cacad\")\n",
    "    def student_age(self):\n",
    "        print(\"Enter student age of cacad\")"
   ]
  },
  {
   "cell_type": "code",
   "execution_count": 28,
   "id": "f3f47f9f",
   "metadata": {},
   "outputs": [
    {
     "name": "stdout",
     "output_type": "stream",
     "text": [
      "Enter student name of racad\n"
     ]
    }
   ],
   "source": [
    "a=racad()\n",
    "a.student_name()"
   ]
  },
  {
   "cell_type": "code",
   "execution_count": 29,
   "id": "79765678",
   "metadata": {},
   "outputs": [
    {
     "name": "stdout",
     "output_type": "stream",
     "text": [
      "Enter student age of cacad\n"
     ]
    }
   ],
   "source": [
    "b=cacad()\n",
    "b.student_age()"
   ]
  }
 ],
 "metadata": {
  "kernelspec": {
   "display_name": "Python 3 (ipykernel)",
   "language": "python",
   "name": "python3"
  },
  "language_info": {
   "codemirror_mode": {
    "name": "ipython",
    "version": 3
   },
   "file_extension": ".py",
   "mimetype": "text/x-python",
   "name": "python",
   "nbconvert_exporter": "python",
   "pygments_lexer": "ipython3",
   "version": "3.9.13"
  }
 },
 "nbformat": 4,
 "nbformat_minor": 5
}
