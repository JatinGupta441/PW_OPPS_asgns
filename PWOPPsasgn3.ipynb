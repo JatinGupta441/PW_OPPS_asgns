{
 "cells": [
  {
   "cell_type": "code",
   "execution_count": 2,
   "id": "b9095ebc",
   "metadata": {},
   "outputs": [],
   "source": [
    "#Q1\n",
    "# It is a skeletal or a blue print created such that other classes use the methods defined in the blue print.\n",
    "import abc\n",
    "class egabs:\n",
    "    @abc.abstractmethod\n",
    "    def egabs1(self):\n",
    "        pass\n",
    "    @abc.abstractmethod\n",
    "    def egabs2(self):\n",
    "        pass"
   ]
  },
  {
   "cell_type": "code",
   "execution_count": 3,
   "id": "0131e0cd",
   "metadata": {},
   "outputs": [],
   "source": [
    "class egabs3(egabs):\n",
    "    def egabs1(self):\n",
    "        return \"an eg.\"\n",
    "    def egabs2(self):\n",
    "        return 'another eg.'"
   ]
  },
  {
   "cell_type": "code",
   "execution_count": 7,
   "id": "fdb9cced",
   "metadata": {},
   "outputs": [
    {
     "data": {
      "text/plain": [
       "'another eg.'"
      ]
     },
     "execution_count": 7,
     "metadata": {},
     "output_type": "execute_result"
    }
   ],
   "source": [
    "egobj=egabs3()\n",
    "egobj.egabs1()\n",
    "egobj.egabs2()"
   ]
  },
  {
   "cell_type": "code",
   "execution_count": 14,
   "id": "41649aa2",
   "metadata": {},
   "outputs": [],
   "source": [
    "#Q2\n",
    "# Abstraction is a blue print created for use in other classes defined\n",
    "# Encapsulation is used to privatise the variables defined under methods.\n",
    "class dif1:\n",
    "    @abc.abstractmethod\n",
    "    def dif1(self):\n",
    "        pass\n",
    "    @abc.abstractmethod\n",
    "    def dif2(self):\n",
    "        pass\n",
    "    \n",
    "class dif2:\n",
    "    def __init__(self, name, age):\n",
    "        self.__name=name\n",
    "        self.age=age"
   ]
  },
  {
   "cell_type": "code",
   "execution_count": 16,
   "id": "8675b4b0",
   "metadata": {},
   "outputs": [
    {
     "data": {
      "text/plain": [
       "'Jatin'"
      ]
     },
     "execution_count": 16,
     "metadata": {},
     "output_type": "execute_result"
    }
   ],
   "source": [
    "egobj1=dif2(\"Jatin\",20)\n",
    "egobj1._dif2__name"
   ]
  },
  {
   "cell_type": "code",
   "execution_count": null,
   "id": "7b115894",
   "metadata": {},
   "outputs": [],
   "source": [
    "#Q3\n",
    "#abc module is used to define abstract module. It is used for abstraction i.e defining a class as abstract class.\n"
   ]
  },
  {
   "cell_type": "code",
   "execution_count": null,
   "id": "59bc83c0",
   "metadata": {},
   "outputs": [],
   "source": [
    "#Q4\n",
    "# To achieve data abstraction we use the abc module,different decorators like property,then setters and getters."
   ]
  },
  {
   "cell_type": "code",
   "execution_count": null,
   "id": "8ba818bd",
   "metadata": {},
   "outputs": [],
   "source": [
    "#Q5\n",
    "# No, we cannot create an instance of an abstract cause it is soleley used for the purpose of providing a blue print."
   ]
  }
 ],
 "metadata": {
  "kernelspec": {
   "display_name": "Python 3 (ipykernel)",
   "language": "python",
   "name": "python3"
  },
  "language_info": {
   "codemirror_mode": {
    "name": "ipython",
    "version": 3
   },
   "file_extension": ".py",
   "mimetype": "text/x-python",
   "name": "python",
   "nbconvert_exporter": "python",
   "pygments_lexer": "ipython3",
   "version": "3.9.13"
  }
 },
 "nbformat": 4,
 "nbformat_minor": 5
}
